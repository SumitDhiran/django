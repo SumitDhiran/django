{
 "cells": [
  {
   "cell_type": "code",
   "execution_count": 58,
   "metadata": {},
   "outputs": [],
   "source": [
    "# list for Board\n",
    "game_list = ['#',1,2,3,4,5,6,7,8,9]"
   ]
  },
  {
   "cell_type": "code",
   "execution_count": 59,
   "metadata": {},
   "outputs": [
    {
     "data": {
      "text/plain": [
       "['#', 1, 2, 3, 4, 5, 6, 7, 8, 9]"
      ]
     },
     "execution_count": 59,
     "metadata": {},
     "output_type": "execute_result"
    }
   ],
   "source": [
    "game_list"
   ]
  },
  {
   "cell_type": "code",
   "execution_count": 60,
   "metadata": {},
   "outputs": [],
   "source": [
    "def display(game_list):\n",
    "    #print(\"\\n\"*100)\n",
    "    print(f'  {game_list[7]}  |   {game_list[8]}   |  {game_list[9]}')\n",
    "    print('-----|-------|-----')\n",
    "    print(f'  {game_list[4]}  |   {game_list[5]}   |  {game_list[6]}')\n",
    "    print('-----|-------|-----')\n",
    "    print(f'  {game_list[1]}  |   {game_list[2]}   |  {game_list[3]}')\n",
    "        "
   ]
  },
  {
   "cell_type": "code",
   "execution_count": 61,
   "metadata": {},
   "outputs": [
    {
     "name": "stdout",
     "output_type": "stream",
     "text": [
      "  7  |   8   |  9\n",
      "-----|-------|-----\n",
      "  4  |   5   |  6\n",
      "-----|-------|-----\n",
      "  1  |   2   |  3\n"
     ]
    }
   ],
   "source": [
    "display(game_list)"
   ]
  },
  {
   "cell_type": "code",
   "execution_count": 62,
   "metadata": {},
   "outputs": [],
   "source": [
    "# select player A or player B will start the game"
   ]
  },
  {
   "cell_type": "code",
   "execution_count": 63,
   "metadata": {},
   "outputs": [],
   "source": [
    "def select_player():\n",
    "    player_A = ''\n",
    "    #player_B = ''\n",
    "    while player_A not in ['X','O']:\n",
    "        player_A = input(\"Who will Start the game X or O\")\n",
    "        if player_A.upper() == 'X' or player_A.upper() == 'O':\n",
    "            return player_A.upper()\n",
    "        else:\n",
    "            print(\"Please Enter either X or O\")\n",
    "    "
   ]
  },
  {
   "cell_type": "code",
   "execution_count": 64,
   "metadata": {},
   "outputs": [],
   "source": [
    "#taking user input"
   ]
  },
  {
   "cell_type": "code",
   "execution_count": 65,
   "metadata": {},
   "outputs": [],
   "source": [
    "def user_choice(current_player):\n",
    "    choice = 'Wrong'\n",
    "    while not choice.isdigit() or int(choice) not in range(1,10):\n",
    "        \n",
    "        choice = input(f\"Enter a position player {current_player} \")\n",
    "        \n",
    "        if not choice.isdigit():\n",
    "            #print(f\"Player {choice} turn\")\n",
    "            print(\"Sorry!Please enter an integer value\")\n",
    "        elif int(choice) not in range(1,10):\n",
    "            print(\"Sorry!Please enter a number between 1 - 9\")\n",
    "        else:\n",
    "            return int(choice)"
   ]
  },
  {
   "cell_type": "code",
   "execution_count": 66,
   "metadata": {},
   "outputs": [],
   "source": [
    "#game logic"
   ]
  },
  {
   "cell_type": "code",
   "execution_count": 67,
   "metadata": {},
   "outputs": [],
   "source": [
    "def game_logic(game_list,current_player):\n",
    "    bool = True\n",
    "    while bool:\n",
    "        count = 0\n",
    "        choice = user_choice(current_player)\n",
    "    \n",
    "        game_list[choice] = current_player\n",
    "       \n",
    "        display(game_list)\n",
    "        #print('\\n'*100)\n",
    "        \n",
    "        #row check\n",
    "        if  (game_list[choice] == game_list[1] == game_list[2] ==game_list[3] ) or (game_list[choice] == game_list[4] == game_list[5]==game_list[6]) or(game_list[choice] == game_list[7] == game_list[8]==game_list[9]):\n",
    "            print(f'Congatulations Player {current_player} won! condition 1 #side check --')\n",
    "            bool = False\n",
    "        # vertical check\n",
    "        elif (game_list[choice] == game_list[1]== game_list[4] == game_list[7]) or (game_list[choice] == game_list[2] == game_list[5]==game_list[8]) or(game_list[choice] == game_list[3] == game_list[6]==game_list[9]):\n",
    "            print(f'Congatulations Player {current_player} won! #vertical check |')\n",
    "            bool = False\n",
    "        # diagonal check   / \\         \n",
    "        elif (game_list[choice] == game_list[1] == game_list[5]==game_list[9]) or (game_list[choice] == game_list[3] == game_list[5]==game_list[7]):\n",
    "                                                                                            #or(game_list[choice-8] == game_list[choice-4] == game_list[choice]):\n",
    "            print(f'Congatulations Player {current_player} won! # diagonal check   \\/ ')\n",
    "            bool = False\n",
    "        else:\n",
    "            for item in game_list:\n",
    "                if item in ['X','O']:\n",
    "                    count += 1\n",
    "            if count == 9:\n",
    "                print(\"Draw! Nobody won\")\n",
    "                bool = False\n",
    "                    \n",
    "        # diagonal check   \\         \n",
    "        #elif (game_list[choice] == game_list[choice+2] == game_list[choice+4]) or (game_list[choice-2] == game_list[choice] == game_list[choice+2]) or(game_list[choice-4] == game_list[choice-2] == game_list[choice]):\n",
    "        #    print(f'Congatulations Player {current_player} won! # diagonal check   \\ ')\n",
    "        #    bool = False\n",
    "        \n",
    "        # switching turns\n",
    "        if current_player == 'X':\n",
    "            current_player = 'O'\n",
    "        else:\n",
    "            current_player = 'X'\n",
    "    "
   ]
  },
  {
   "cell_type": "code",
   "execution_count": 68,
   "metadata": {},
   "outputs": [],
   "source": [
    "# keep playing or stop"
   ]
  },
  {
   "cell_type": "code",
   "execution_count": 69,
   "metadata": {},
   "outputs": [],
   "source": [
    "def replay(game_list):\n",
    "    game_on = 'Wrong'\n",
    "    while game_on not in ['Y','N']:\n",
    "        \n",
    "        game_on = input(\"Do you want to keep playing? [Y/N]\")\n",
    "        \n",
    "        if game_on.upper() == 'Y':\n",
    "            #game_list = ['#',1,2,3,4,5,6,7,8,9]\n",
    "            return True\n",
    "        elif game_on.upper() == 'N':\n",
    "            return False\n",
    "        else:\n",
    "            print(\"Sorry! Please enter either Y or N\")\n",
    "    \n"
   ]
  },
  {
   "cell_type": "code",
   "execution_count": 70,
   "metadata": {},
   "outputs": [],
   "source": [
    "# execution"
   ]
  },
  {
   "cell_type": "code",
   "execution_count": 71,
   "metadata": {},
   "outputs": [
    {
     "name": "stdout",
     "output_type": "stream",
     "text": [
      "  7  |   8   |  9\n",
      "-----|-------|-----\n",
      "  4  |   5   |  6\n",
      "-----|-------|-----\n",
      "  1  |   2   |  3\n",
      "Who will Start the game X or Ox\n",
      "Enter a position player X 5\n",
      "     |       |   \n",
      "-----|-------|-----\n",
      "     |   X   |   \n",
      "-----|-------|-----\n",
      "     |       |   \n",
      "Enter a position player O 1\n",
      "     |       |   \n",
      "-----|-------|-----\n",
      "     |   X   |   \n",
      "-----|-------|-----\n",
      "  O  |       |   \n",
      "Enter a position player X 7\n",
      "  X  |       |   \n",
      "-----|-------|-----\n",
      "     |   X   |   \n",
      "-----|-------|-----\n",
      "  O  |       |   \n",
      "Enter a position player O 3\n",
      "  X  |       |   \n",
      "-----|-------|-----\n",
      "     |   X   |   \n",
      "-----|-------|-----\n",
      "  O  |       |  O\n",
      "Enter a position player X 2\n",
      "  X  |       |   \n",
      "-----|-------|-----\n",
      "     |   X   |   \n",
      "-----|-------|-----\n",
      "  O  |   X   |  O\n",
      "Enter a position player O 8\n",
      "  X  |   O   |   \n",
      "-----|-------|-----\n",
      "     |   X   |   \n",
      "-----|-------|-----\n",
      "  O  |   X   |  O\n",
      "Enter a position player X 4\n",
      "  X  |   O   |   \n",
      "-----|-------|-----\n",
      "  X  |   X   |   \n",
      "-----|-------|-----\n",
      "  O  |   X   |  O\n",
      "Enter a position player O 9\n",
      "  X  |   O   |  O\n",
      "-----|-------|-----\n",
      "  X  |   X   |   \n",
      "-----|-------|-----\n",
      "  O  |   X   |  O\n",
      "Enter a position player X 6\n",
      "  X  |   O   |  O\n",
      "-----|-------|-----\n",
      "  X  |   X   |  X\n",
      "-----|-------|-----\n",
      "  O  |   X   |  O\n",
      "Congatulations Player X won! condition 1 #side check\n",
      "Do you want to keep playing? [Y/N]y\n",
      "Who will Start the game X or Ox\n",
      "Enter a position player X 5\n",
      "     |       |   \n",
      "-----|-------|-----\n",
      "     |   X   |   \n",
      "-----|-------|-----\n",
      "     |       |   \n",
      "Enter a position player O 1\n",
      "     |       |   \n",
      "-----|-------|-----\n",
      "     |   X   |   \n",
      "-----|-------|-----\n",
      "  O  |       |   \n",
      "Enter a position player X 8\n",
      "     |   X   |   \n",
      "-----|-------|-----\n",
      "     |   X   |   \n",
      "-----|-------|-----\n",
      "  O  |       |   \n",
      "Enter a position player O 2\n",
      "     |   X   |   \n",
      "-----|-------|-----\n",
      "     |   X   |   \n",
      "-----|-------|-----\n",
      "  O  |   O   |   \n",
      "Enter a position player X 3\n",
      "     |   X   |   \n",
      "-----|-------|-----\n",
      "     |   X   |   \n",
      "-----|-------|-----\n",
      "  O  |   O   |  X\n",
      "Enter a position player O 7\n",
      "  O  |   X   |   \n",
      "-----|-------|-----\n",
      "     |   X   |   \n",
      "-----|-------|-----\n",
      "  O  |   O   |  X\n",
      "Enter a position player X 4\n",
      "  O  |   X   |   \n",
      "-----|-------|-----\n",
      "  X  |   X   |   \n",
      "-----|-------|-----\n",
      "  O  |   O   |  X\n",
      "Enter a position player O 6\n",
      "  O  |   X   |   \n",
      "-----|-------|-----\n",
      "  X  |   X   |  O\n",
      "-----|-------|-----\n",
      "  O  |   O   |  X\n",
      "Enter a position player X 9\n",
      "  O  |   X   |  X\n",
      "-----|-------|-----\n",
      "  X  |   X   |  O\n",
      "-----|-------|-----\n",
      "  O  |   O   |  X\n",
      "Draw! Nobody won\n",
      "Do you want to keep playing? [Y/N]n\n",
      "  O  |   X   |  X\n",
      "-----|-------|-----\n",
      "  X  |   X   |  O\n",
      "-----|-------|-----\n",
      "  O  |   O   |  X\n"
     ]
    }
   ],
   "source": [
    "game_list = ['#',1,2,3,4,5,6,7,8,9]\n",
    "display(game_list)\n",
    "game_on = True\n",
    "while game_on:\n",
    "    game_list = ['#',' ',' ',' ',' ',' ',' ',' ',' ',' ']\n",
    "    current_player = select_player()\n",
    "    #choice         = user_choice(game_list)\n",
    "    #game_result    = \n",
    "    game_logic(game_list,current_player)\n",
    "    game_on        = replay(game_list)\n",
    "    \n",
    "display(game_list)"
   ]
  },
  {
   "cell_type": "code",
   "execution_count": null,
   "metadata": {},
   "outputs": [],
   "source": []
  }
 ],
 "metadata": {
  "kernelspec": {
   "display_name": "Python 3",
   "language": "python",
   "name": "python3"
  },
  "language_info": {
   "codemirror_mode": {
    "name": "ipython",
    "version": 3
   },
   "file_extension": ".py",
   "mimetype": "text/x-python",
   "name": "python",
   "nbconvert_exporter": "python",
   "pygments_lexer": "ipython3",
   "version": "3.8.5"
  }
 },
 "nbformat": 4,
 "nbformat_minor": 4
}
